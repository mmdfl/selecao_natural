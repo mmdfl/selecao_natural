{
 "cells": [
  {
   "cell_type": "code",
   "execution_count": 32,
   "metadata": {
    "collapsed": true
   },
   "outputs": [],
   "source": [
    "#Pseudo-código\n",
    "\n",
    "# avancar n gerações\n",
    "    # avanço de uma geração\n",
    "        # gerar uma pop inicial\n",
    "        # cruzar  aleatoriamente os indiv da pop\n",
    "            # pegou dois inviduos aleatoriamente\n",
    "            # gerou um filho\n",
    "            # adicionou filho a pop \n",
    "        # sobrevivencia dos mais aptos \n",
    "            # teste de adaptabilidade "
   ]
  },
  {
   "cell_type": "code",
   "execution_count": 33,
   "metadata": {
    "collapsed": false
   },
   "outputs": [],
   "source": [
    "def gerar_pop_inicial(tam=10):\n",
    "    return [1,2,3,4,5,6,7,8,9,10]\n",
    "\n",
    "# pop=gerar_pop_inicial(10)\n",
    "# print(pop)"
   ]
  },
  {
   "cell_type": "code",
   "execution_count": 34,
   "metadata": {
    "collapsed": false
   },
   "outputs": [],
   "source": [
    "import random\n",
    "\n",
    "def pega_dois_individuos_aleatorios(pop):\n",
    "    casal = random.sample(pop,2)\n",
    "    return casal\n",
    "\n",
    "# casal_teste=pega_dois_individuos_aleatorios(pop)\n",
    "# print(casal_teste)"
   ]
  },
  {
   "cell_type": "code",
   "execution_count": 35,
   "metadata": {
    "collapsed": false
   },
   "outputs": [],
   "source": [
    "def gerar_filhos(casal):\n",
    "    filho=(casal[0]+casal[1])/2\n",
    "    fator_de_individualidade = (0.8+0.4*random.random())\n",
    "    return filho*fator_de_individualidade\n",
    "\n",
    "# filho_teste=gerar_filhos(casal_teste)\n",
    "# print(filho_teste)"
   ]
  },
  {
   "cell_type": "code",
   "execution_count": 36,
   "metadata": {
    "collapsed": false
   },
   "outputs": [],
   "source": [
    "def add_filho_a_pop(filho, pop):\n",
    "    pop.append(filho)\n",
    "    return pop\n",
    "\n",
    "# pop_teste=add_filho_a_pop(filho_teste,pop)\n",
    "# print(pop_teste)\n"
   ]
  },
  {
   "cell_type": "code",
   "execution_count": 37,
   "metadata": {
    "collapsed": false
   },
   "outputs": [],
   "source": [
    "def cruzar_aleatoriamente(pop):\n",
    "    qtde_tentativas_de_cruzamento=random.randint(0,len(pop))\n",
    "    i=0\n",
    "    while i<qtde_tentativas_de_cruzamento:\n",
    "        casal=pega_dois_individuos_aleatorios(pop)\n",
    "        filho=gerar_filhos(casal)\n",
    "        pop=add_filho_a_pop(filho,pop)\n",
    "        i=i+1\n",
    "    return pop\n",
    "\n",
    "# print(pop)\n",
    "# pop=cruzar_aleatoriamente(pop)\n",
    "# print(pop)"
   ]
  },
  {
   "cell_type": "code",
   "execution_count": 38,
   "metadata": {
    "collapsed": false
   },
   "outputs": [],
   "source": [
    "def teste_de_adaptabilidade(indiv):\n",
    "    if indiv<8:\n",
    "        return False #morre\n",
    "    return True\n",
    "\n",
    "def sobreviventes_apos_selecao(pop):\n",
    "    \n",
    "    individuos_para_morrer=[]\n",
    "    \n",
    "    for i in range(0,len(pop)):\n",
    "        indiv=pop[i]\n",
    "        chance_de_nao_se_safar=random.random()\n",
    "        if chance_de_nao_se_safar > 0.5:\n",
    "            if (teste_de_adaptabilidade(indiv) == False):\n",
    "                individuos_para_morrer.append(i)\n",
    "    sobreviventes = [i for j, i in enumerate(pop) if j not in individuos_para_morrer]\n",
    "    return sobreviventes\n",
    "\n",
    "# sobreviventes=sobreviventes_apos_selecao(pop)\n",
    "# print(sobreviventes)"
   ]
  },
  {
   "cell_type": "code",
   "execution_count": 45,
   "metadata": {
    "collapsed": false
   },
   "outputs": [],
   "source": [
    "def avanca_uma_geracao(pop):\n",
    "    pop=cruzar_aleatoriamente(pop)\n",
    "    pop=sobreviventes_apos_selecao(pop)\n",
    "    return pop\n",
    "\n",
    "def average(lst):\n",
    "    return sum(lst)/len(lst)\n",
    "\n",
    "def avancar_n_geracoes(pop,n):\n",
    "    i=0\n",
    "    while i<n:\n",
    "        pop=avanca_uma_geracao(pop)\n",
    "#         print(pop)\n",
    "        print(average(pop))\n",
    "        i=i+1\n",
    "    return n"
   ]
  },
  {
   "cell_type": "code",
   "execution_count": null,
   "metadata": {
    "collapsed": false
   },
   "outputs": [
    {
     "name": "stdout",
     "output_type": "stream",
     "text": [
      "[1, 2, 3, 4, 5, 6, 7, 8, 9, 10]\n",
      "5.252246818492403\n",
      "6.035009856130841\n",
      "6.569341588920271\n",
      "6.853767464678414\n",
      "7.865148599186779\n",
      "8.379950487380542\n",
      "8.68947166008635\n",
      "8.734389912430556\n",
      "8.91677946997087\n",
      "8.98032876101485\n",
      "9.050546309684703\n",
      "9.164383124356158\n",
      "9.262536812095437\n",
      "9.328827552415756\n",
      "9.3315949839803\n",
      "9.36476985513763\n",
      "9.560814452904959\n",
      "9.715135460275926\n",
      "9.834075856322567\n",
      "9.920121525024143\n",
      "9.887072140713546\n",
      "10.015945191048393\n",
      "10.102928694522458\n",
      "10.162993312868968\n",
      "10.182868283725577\n",
      "10.243809956752743\n",
      "10.286922928012148\n",
      "10.317815425816747\n",
      "10.362790290235893\n",
      "10.413822509701378\n",
      "10.454969694819066\n"
     ]
    }
   ],
   "source": [
    "pop = gerar_pop_inicial(10)\n",
    "print(pop)\n",
    "pop_final=avancar_n_geracoes(pop,500)\n"
   ]
  },
  {
   "cell_type": "code",
   "execution_count": null,
   "metadata": {
    "collapsed": true
   },
   "outputs": [],
   "source": []
  },
  {
   "cell_type": "code",
   "execution_count": null,
   "metadata": {
    "collapsed": true
   },
   "outputs": [],
   "source": []
  }
 ],
 "metadata": {
  "kernelspec": {
   "display_name": "Python 3",
   "language": "python",
   "name": "python3"
  },
  "language_info": {
   "codemirror_mode": {
    "name": "ipython",
    "version": 3
   },
   "file_extension": ".py",
   "mimetype": "text/x-python",
   "name": "python",
   "nbconvert_exporter": "python",
   "pygments_lexer": "ipython3",
   "version": "3.5.1"
  }
 },
 "nbformat": 4,
 "nbformat_minor": 0
}
